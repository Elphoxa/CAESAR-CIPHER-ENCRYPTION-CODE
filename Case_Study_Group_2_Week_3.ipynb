{
 "cells": [
  {
   "cell_type": "markdown",
   "id": "ef629c4e-3507-4a5f-a734-d7edaeb13b86",
   "metadata": {},
   "source": [
    "                                                    CAESAR CIPHER ENCRYPTION CODE \n",
    "                                                    "
   ]
  },
  {
   "cell_type": "code",
   "execution_count": 1,
   "id": "7f29b4c2-dff5-4902-8f1b-66b1bca16e9e",
   "metadata": {},
   "outputs": [
    {
     "name": "stdin",
     "output_type": "stream",
     "text": [
      "Please enter Ceasar's message:  Change to Diamond formation and prepare to attack from the sides \n",
      "Please enter the shift value:  3\n"
     ]
    },
    {
     "name": "stdout",
     "output_type": "stream",
     "text": [
      "Encrypted Text: Fkdqjh wr Gldprqg irupdwlrq dqg suhsduh wr dwwdfn iurp wkh vlghv \n"
     ]
    }
   ],
   "source": [
    "def caesar_cipher_encrypt(plain_text, shift):\n",
    "    encrypted_text = \"\"                      \n",
    "    for char in plain_text:                  \n",
    "        if char.isalpha():                                         \n",
    "            is_upper = char.isupper()              \n",
    "            char = char.lower()                 \n",
    "            shifted_char = chr(((ord(char) - ord('a') + shift) % 26) + ord('a'))\n",
    "            if is_upper:                   \n",
    "                shifted_char = shifted_char.upper()        \n",
    "            encrypted_text += shifted_char          \n",
    "        else:\n",
    "            encrypted_text += char                 \n",
    "    return encrypted_text    \n",
    "\n",
    "# Please enter Ceasar's message \n",
    "plain_text = input(\"Please enter Ceasar's message: \")\n",
    "shift = int(input(\"Please enter the shift value: \"))\n",
    "\n",
    "# Encrypt the Ceasar's message\n",
    "encrypted_text = caesar_cipher_encrypt(plain_text, shift)\n",
    "print(\"Encrypted Text:\", encrypted_text)\n"
   ]
  },
  {
   "cell_type": "code",
   "execution_count": null,
   "id": "d545d014-2025-4fea-86b1-12e4fc4cbc24",
   "metadata": {},
   "outputs": [],
   "source": []
  },
  {
   "cell_type": "code",
   "execution_count": null,
   "id": "dc7cd698-9ec3-4ef8-9a5a-3d13ef523ad1",
   "metadata": {},
   "outputs": [],
   "source": []
  }
 ],
 "metadata": {
  "kernelspec": {
   "display_name": "Python 3 (ipykernel)",
   "language": "python",
   "name": "python3"
  },
  "language_info": {
   "codemirror_mode": {
    "name": "ipython",
    "version": 3
   },
   "file_extension": ".py",
   "mimetype": "text/x-python",
   "name": "python",
   "nbconvert_exporter": "python",
   "pygments_lexer": "ipython3",
   "version": "3.10.9"
  }
 },
 "nbformat": 4,
 "nbformat_minor": 5
}
